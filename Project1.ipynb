{
 "cells": [
  {
   "cell_type": "markdown",
   "metadata": {},
   "source": [
    "# <h1> IS362 - Project 1: Airline Delayed Chart </h1>\n",
    "\n",
    "<b>(1)</b> Create a .CSV file (or optionally, a MySQL database!) that includes all of the information below. You may change the structure of the information as you like.\n",
    "\n",
    "<b>(2)</b> Read the information from your .CSV file into pandas, and perform analysis to compare the arrival delays for the two airlines.\n",
    "\n",
    "<b>(3)</b> Your code should be in a Jupyter (IPython) notebook (in GitHub), and should include narrative descriptions of your analysis and conclusions.\n",
    "\n",
    "\n",
    "<b> CREATING AND READING A .CSV FILE </b> "
   ]
  },
  {
   "cell_type": "markdown",
   "metadata": {
    "collapsed": true
   },
   "source": [
    "# importing required libraries\n",
    "import pandas as pd\n",
    "import csv\n",
    "import matplotlib.pyplot as plt\n",
    "import urllib.request\n",
    "import matplotlib \n",
    "import io\n",
    "import requests\n",
    "\n",
    "%matplotlib inline"
   ]
  },
  {
   "cell_type": "markdown",
   "metadata": {},
   "source": [
    "import numpy as np\n",
    "import pandas as pd\n"
   ]
  },
  {
   "cell_type": "code",
   "execution_count": 3,
   "metadata": {
    "collapsed": true
   },
   "outputs": [],
   "source": [
    "# Read csv from local file              \n",
    "file_name = \"\\\\airlines.csv\"\n",
    "LOC_ROOT = %pwd\n",
    "FILE_LOC = LOC_ROOT + file_name\n",
    "DATA = pd.read_csv(FILE_LOC)"
   ]
  },
  {
   "cell_type": "code",
   "execution_count": 7,
   "metadata": {},
   "outputs": [
    {
     "data": {
      "text/plain": [
       "<matplotlib.axes._subplots.AxesSubplot at 0x1a25c3bb4a8>"
      ]
     },
     "execution_count": 7,
     "metadata": {},
     "output_type": "execute_result"
    }
   ],
   "source": [
    "# Looking for dealyed only                             \n",
    "DELAYED = DATA.sort_values(['Delayed'])\n",
    "maxdelay = DATA['Delayed'].max()\n",
    "DATA['Airlines']\n",
    "DATA['Delayed'].plot()\n",
    "delaytrue = DATA['Delayed']==maxdelay\n",
    "row = DATA[delaytrue]\n",
    "\n",
    "# Airlines\n",
    "Airlines = DATA['Airlines'] == 'Alaska'\n",
    "DATA[Airlines]['Delayed'].plot()\n",
    "\n",
    "Airlines = DATA['Airlines'] == 'AM WEST'\n",
    "DATA[Airlines]['Delayed'].plot()"
   ]
  },
  {
   "cell_type": "code",
   "execution_count": 8,
   "metadata": {},
   "outputs": [
    {
     "data": {
      "text/html": [
       "<div>\n",
       "<style>\n",
       "    .dataframe thead tr:only-child th {\n",
       "        text-align: right;\n",
       "    }\n",
       "\n",
       "    .dataframe thead th {\n",
       "        text-align: left;\n",
       "    }\n",
       "\n",
       "    .dataframe tbody tr th {\n",
       "        vertical-align: top;\n",
       "    }\n",
       "</style>\n",
       "<table border=\"1\" class=\"dataframe\">\n",
       "  <thead>\n",
       "    <tr style=\"text-align: right;\">\n",
       "      <th></th>\n",
       "      <th>Airlines</th>\n",
       "      <th>City</th>\n",
       "      <th>On time</th>\n",
       "      <th>Delayed</th>\n",
       "    </tr>\n",
       "  </thead>\n",
       "  <tbody>\n",
       "    <tr>\n",
       "      <th>5</th>\n",
       "      <td>AM WEST</td>\n",
       "      <td>Los Angeles</td>\n",
       "      <td>694</td>\n",
       "      <td>117</td>\n",
       "    </tr>\n",
       "    <tr>\n",
       "      <th>6</th>\n",
       "      <td>AM WEST</td>\n",
       "      <td>Phoenix</td>\n",
       "      <td>4840</td>\n",
       "      <td>415</td>\n",
       "    </tr>\n",
       "    <tr>\n",
       "      <th>7</th>\n",
       "      <td>AM WEST</td>\n",
       "      <td>San Diego</td>\n",
       "      <td>383</td>\n",
       "      <td>65</td>\n",
       "    </tr>\n",
       "    <tr>\n",
       "      <th>8</th>\n",
       "      <td>AM WEST</td>\n",
       "      <td>San Francisco</td>\n",
       "      <td>320</td>\n",
       "      <td>129</td>\n",
       "    </tr>\n",
       "    <tr>\n",
       "      <th>9</th>\n",
       "      <td>AM WEST</td>\n",
       "      <td>Seattle</td>\n",
       "      <td>201</td>\n",
       "      <td>61</td>\n",
       "    </tr>\n",
       "  </tbody>\n",
       "</table>\n",
       "</div>"
      ],
      "text/plain": [
       "  Airlines           City  On time  Delayed\n",
       "5  AM WEST    Los Angeles      694      117\n",
       "6  AM WEST        Phoenix     4840      415\n",
       "7  AM WEST      San Diego      383       65\n",
       "8  AM WEST  San Francisco      320      129\n",
       "9  AM WEST        Seattle      201       61"
      ]
     },
     "execution_count": 8,
     "metadata": {},
     "output_type": "execute_result"
    }
   ],
   "source": [
    "Air = DATA['Airlines'] == 'AM WEST'                         \n",
    "DATA[Air]['Delayed'].plot.bar()\n",
    "\n",
    "DATA[Air]"
   ]
  },
  {
   "cell_type": "code",
   "execution_count": 9,
   "metadata": {},
   "outputs": [
    {
     "data": {
      "text/html": [
       "<div>\n",
       "<style>\n",
       "    .dataframe thead tr:only-child th {\n",
       "        text-align: right;\n",
       "    }\n",
       "\n",
       "    .dataframe thead th {\n",
       "        text-align: left;\n",
       "    }\n",
       "\n",
       "    .dataframe tbody tr th {\n",
       "        vertical-align: top;\n",
       "    }\n",
       "</style>\n",
       "<table border=\"1\" class=\"dataframe\">\n",
       "  <thead>\n",
       "    <tr style=\"text-align: right;\">\n",
       "      <th></th>\n",
       "      <th>Airlines</th>\n",
       "      <th>City</th>\n",
       "      <th>On time</th>\n",
       "      <th>Delayed</th>\n",
       "    </tr>\n",
       "  </thead>\n",
       "  <tbody>\n",
       "    <tr>\n",
       "      <th>0</th>\n",
       "      <td>Alaska</td>\n",
       "      <td>Los Angeles</td>\n",
       "      <td>497</td>\n",
       "      <td>62</td>\n",
       "    </tr>\n",
       "    <tr>\n",
       "      <th>1</th>\n",
       "      <td>Alaska</td>\n",
       "      <td>Phoenix</td>\n",
       "      <td>221</td>\n",
       "      <td>12</td>\n",
       "    </tr>\n",
       "    <tr>\n",
       "      <th>2</th>\n",
       "      <td>Alaska</td>\n",
       "      <td>San Diego</td>\n",
       "      <td>212</td>\n",
       "      <td>20</td>\n",
       "    </tr>\n",
       "    <tr>\n",
       "      <th>3</th>\n",
       "      <td>Alaska</td>\n",
       "      <td>San Francisco</td>\n",
       "      <td>503</td>\n",
       "      <td>102</td>\n",
       "    </tr>\n",
       "    <tr>\n",
       "      <th>4</th>\n",
       "      <td>Alaska</td>\n",
       "      <td>Seattle</td>\n",
       "      <td>1841</td>\n",
       "      <td>305</td>\n",
       "    </tr>\n",
       "  </tbody>\n",
       "</table>\n",
       "</div>"
      ],
      "text/plain": [
       "  Airlines           City  On time  Delayed\n",
       "0   Alaska    Los Angeles      497       62\n",
       "1   Alaska        Phoenix      221       12\n",
       "2   Alaska      San Diego      212       20\n",
       "3   Alaska  San Francisco      503      102\n",
       "4   Alaska        Seattle     1841      305"
      ]
     },
     "execution_count": 9,
     "metadata": {},
     "output_type": "execute_result"
    }
   ],
   "source": [
    "Air = DATA['Airlines'] == 'Alaska'                \n",
    "DATA[Air]['Delayed'].plot.bar()\n",
    "DATA[Air]"
   ]
  }
 ],
 "metadata": {
  "kernelspec": {
   "display_name": "Python 3",
   "language": "python",
   "name": "python3"
  },
  "language_info": {
   "codemirror_mode": {
    "name": "ipython",
    "version": 3
   },
   "file_extension": ".py",
   "mimetype": "text/x-python",
   "name": "python",
   "nbconvert_exporter": "python",
   "pygments_lexer": "ipython3",
   "version": "3.7.3"
  }
 },
 "nbformat": 4,
 "nbformat_minor": 2
}
